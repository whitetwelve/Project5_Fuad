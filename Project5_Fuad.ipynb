{
 "cells": [
  {
   "cell_type": "code",
   "execution_count": null,
   "metadata": {
    "colab": {
     "base_uri": "https://localhost:8080/"
    },
    "id": "p26fLeRmowP1",
    "outputId": "9a80c3bb-0fa7-4666-ffb7-4e85f0da105b"
   },
   "outputs": [
    {
     "name": "stdout",
     "output_type": "stream",
     "text": [
      "Looking in indexes: https://pypi.org/simple, https://us-python.pkg.dev/colab-wheels/public/simple/\n",
      "Requirement already satisfied: findspark in /usr/local/lib/python3.10/dist-packages (2.0.1)\n",
      "Looking in indexes: https://pypi.org/simple, https://us-python.pkg.dev/colab-wheels/public/simple/\n",
      "Requirement already satisfied: pyspark in /usr/local/lib/python3.10/dist-packages (3.4.0)\n",
      "Requirement already satisfied: py4j==0.10.9.7 in /usr/local/lib/python3.10/dist-packages (from pyspark) (0.10.9.7)\n"
     ]
    }
   ],
   "source": [
    "!pip install findspark\n",
    "!pip install pyspark"
   ]
  },
  {
   "cell_type": "code",
   "execution_count": null,
   "metadata": {
    "colab": {
     "base_uri": "https://localhost:8080/"
    },
    "id": "5yEoS41rznfj",
    "outputId": "8771ca8e-ffef-4a2f-ca83-509c7792d699"
   },
   "outputs": [
    {
     "name": "stdout",
     "output_type": "stream",
     "text": [
      "Download Success\n"
     ]
    }
   ],
   "source": [
    "import requests\n",
    "\n",
    "url = 'https://d37ci6vzurychx.cloudfront.net/trip-data/fhv_tripdata_2021-02.parquet'\n",
    "filename = 'fhv_tripdata_2021-02.parquet'\n",
    "path = '.'\n",
    "\n",
    "response = requests.get(url)\n",
    "with open(path+'/'+filename, 'wb') as f:\n",
    "    f.write(response.content)\n",
    "    print(\"Download Success\")"
   ]
  },
  {
   "cell_type": "code",
   "execution_count": null,
   "metadata": {
    "id": "s5J2cJQcsAhW"
   },
   "outputs": [],
   "source": [
    "from pyspark.sql import SparkSession\n",
    "spark = SparkSession.builder.appName(\"Project 5\").getOrCreate()"
   ]
  },
  {
   "cell_type": "code",
   "execution_count": null,
   "metadata": {
    "colab": {
     "base_uri": "https://localhost:8080/"
    },
    "id": "jmS79Xz_yPFp",
    "outputId": "3009e68c-c0f7-4d6c-c579-3ab47e1e40a0"
   },
   "outputs": [
    {
     "name": "stdout",
     "output_type": "stream",
     "text": [
      "root\n",
      " |-- dispatching_base_num: string (nullable = true)\n",
      " |-- pickup_datetime: timestamp_ntz (nullable = true)\n",
      " |-- dropOff_datetime: timestamp_ntz (nullable = true)\n",
      " |-- PUlocationID: double (nullable = true)\n",
      " |-- DOlocationID: double (nullable = true)\n",
      " |-- SR_Flag: integer (nullable = true)\n",
      " |-- Affiliated_base_number: string (nullable = true)\n",
      "\n",
      "+--------------------+-------------------+-------------------+------------+------------+-------+----------------------+\n",
      "|dispatching_base_num|    pickup_datetime|   dropOff_datetime|PUlocationID|DOlocationID|SR_Flag|Affiliated_base_number|\n",
      "+--------------------+-------------------+-------------------+------------+------------+-------+----------------------+\n",
      "|              B00013|2021-02-01 00:01:00|2021-02-01 01:33:00|        null|        null|   null|                B00014|\n",
      "|     B00021         |2021-02-01 00:55:40|2021-02-01 01:06:20|       173.0|        82.0|   null|       B00021         |\n",
      "|     B00021         |2021-02-01 00:14:03|2021-02-01 00:28:37|       173.0|        56.0|   null|       B00021         |\n",
      "|     B00021         |2021-02-01 00:27:48|2021-02-01 00:35:45|        82.0|       129.0|   null|       B00021         |\n",
      "|              B00037|2021-02-01 00:12:50|2021-02-01 00:26:38|        null|       225.0|   null|                B00037|\n",
      "+--------------------+-------------------+-------------------+------------+------------+-------+----------------------+\n",
      "only showing top 5 rows\n",
      "\n"
     ]
    }
   ],
   "source": [
    "df = spark.read.parquet(\"./fhv_tripdata_2021-02.parquet\")\n",
    "df.printSchema()\n",
    "df.show(5)\n",
    "\n",
    "# Register the DataFrame as a SQL table\n",
    "df.createOrReplaceTempView(\"fhv_tripdata_2021\")\n"
   ]
  },
  {
   "cell_type": "markdown",
   "metadata": {
    "id": "NZOJ4l9g1h2A"
   },
   "source": [
    "## Analyze Data\n"
   ]
  },
  {
   "cell_type": "markdown",
   "metadata": {
    "id": "8NI_P_0V1ps_"
   },
   "source": [
    "### How many taxi trips were there on February 15?\n"
   ]
  },
  {
   "cell_type": "code",
   "execution_count": null,
   "metadata": {
    "colab": {
     "base_uri": "https://localhost:8080/"
    },
    "id": "d5D3M6rQrhde",
    "outputId": "5db240d4-0f2a-4382-f3a5-2e995ec7d04c"
   },
   "outputs": [
    {
     "name": "stdout",
     "output_type": "stream",
     "text": [
      "+----------+\n",
      "|total_trip|\n",
      "+----------+\n",
      "|     34814|\n",
      "+----------+\n",
      "\n"
     ]
    }
   ],
   "source": [
    "taxi_trips = spark.sql(\"SELECT COUNT(*) AS total_trip FROM fhv_tripdata_2021\\\n",
    "                        WHERE DATE_TRUNC('day', pickup_datetime) = '2021-02-15'\\\n",
    "                        \")\n",
    "taxi_trips.show(5)"
   ]
  },
  {
   "cell_type": "markdown",
   "metadata": {
    "id": "m0jgbf7T6e4_"
   },
   "source": [
    "### Find the longest trip for each day ?"
   ]
  },
  {
   "cell_type": "code",
   "execution_count": null,
   "metadata": {
    "colab": {
     "base_uri": "https://localhost:8080/"
    },
    "id": "CXkNLfJE5AVD",
    "outputId": "2468efbd-f71e-41f5-c5bc-44e8cc205437"
   },
   "outputs": [
    {
     "name": "stdout",
     "output_type": "stream",
     "text": [
      "10 Top Longest Trip each day\n",
      "+-------------------+---------------+\n",
      "|        pickup_date|duration_minute|\n",
      "+-------------------+---------------+\n",
      "|2021-02-04 00:00:00|        1075420|\n",
      "|2021-02-25 00:00:00|        1026330|\n",
      "|2021-02-03 00:00:00|        1003721|\n",
      "|2021-02-23 00:00:00|         962173|\n",
      "|2021-02-17 00:00:00|         957779|\n",
      "|2021-02-24 00:00:00|         956015|\n",
      "|2021-02-26 00:00:00|         952434|\n",
      "|2021-02-10 00:00:00|         939262|\n",
      "|2021-02-05 00:00:00|         937278|\n",
      "|2021-02-11 00:00:00|         925845|\n",
      "+-------------------+---------------+\n",
      "only showing top 10 rows\n",
      "\n"
     ]
    }
   ],
   "source": [
    "longest_trip = spark.sql(\"SELECT date_trunc('day', pickup_datetime) as pickup_date ,\\\n",
    "                          SUM(TIMESTAMPDIFF(MINUTE, pickup_datetime, dropOff_datetime)) as duration_minute\\\n",
    "                          FROM fhv_tripdata_2021\\\n",
    "                          GROUP BY pickup_date\\\n",
    "                          ORDER BY duration_minute desc\\\n",
    "                          \")\n",
    "print(\"10 Top Longest Trip each day\")\n",
    "longest_trip.show(10)"
   ]
  },
  {
   "cell_type": "markdown",
   "metadata": {
    "id": "IzJnUYne8m_Z"
   },
   "source": [
    "### Find Top 5 Most frequent `dispatching_base_num` ?"
   ]
  },
  {
   "cell_type": "code",
   "execution_count": null,
   "metadata": {
    "colab": {
     "base_uri": "https://localhost:8080/"
    },
    "id": "TLxRhQwD8HHe",
    "outputId": "459be4f9-657d-4c5a-e9ec-b086929ae839"
   },
   "outputs": [
    {
     "name": "stdout",
     "output_type": "stream",
     "text": [
      "Find Top 5 Most frequent dispatching_base_num\n",
      "+--------------------+-----+\n",
      "|dispatching_base_num|total|\n",
      "+--------------------+-----+\n",
      "|              B00856|35077|\n",
      "|              B01312|33089|\n",
      "|              B01145|31114|\n",
      "|              B02794|30397|\n",
      "|              B03016|29794|\n",
      "|              B01239|24591|\n",
      "|              B02735|21031|\n",
      "|              B00310|18141|\n",
      "|              B01899|16563|\n",
      "|              B00900|16024|\n",
      "+--------------------+-----+\n",
      "only showing top 10 rows\n",
      "\n"
     ]
    }
   ],
   "source": [
    "# Cleansing Data\n",
    "most_frequent = spark.sql(\n",
    "    \"SELECT TRIM(dispatching_base_num) as dispatching_base_num, \\\n",
    "    count(dispatching_base_num) as total \\\n",
    "    FROM fhv_tripdata_2021\\\n",
    "    GROUP BY dispatching_base_num\\\n",
    "    ORDER BY total desc\"\n",
    ")\n",
    "\n",
    "print(\"Find Top 5 Most frequent dispatching_base_num\")\n",
    "most_frequent.show(10)\n"
   ]
  },
  {
   "cell_type": "markdown",
   "metadata": {
    "id": "0fBVGmyl8oKN"
   },
   "source": [
    "### Find Top 5 Most common location pairs (PUlocationID and DOlocationID) ?"
   ]
  },
  {
   "cell_type": "code",
   "execution_count": null,
   "metadata": {
    "colab": {
     "base_uri": "https://localhost:8080/"
    },
    "id": "Scc93-Gs8rQe",
    "outputId": "8bdfcd65-1168-4656-b47d-e9d8b52807a2"
   },
   "outputs": [
    {
     "name": "stdout",
     "output_type": "stream",
     "text": [
      "+------------+------------+--------------+\n",
      "|PULocationID|DOLocationID|total_pasangan|\n",
      "+------------+------------+--------------+\n",
      "|       206.0|       206.0|          2374|\n",
      "|       221.0|       206.0|          2112|\n",
      "|       129.0|       129.0|          1902|\n",
      "|         7.0|         7.0|          1829|\n",
      "|       179.0|       179.0|          1736|\n",
      "|       221.0|       221.0|          1562|\n",
      "|       223.0|       223.0|          1522|\n",
      "|        92.0|        92.0|          1383|\n",
      "|       206.0|       221.0|          1309|\n",
      "|        56.0|        56.0|          1073|\n",
      "+------------+------------+--------------+\n",
      "only showing top 10 rows\n",
      "\n"
     ]
    }
   ],
   "source": [
    "location_pairs_common = spark.sql(\n",
    "    \"SELECT PULocationID, DOLocationID, COUNT(*) AS total_pasangan \\\n",
    "    FROM fhv_tripdata_2021 \\\n",
    "    WHERE PULocationID IS NOT NULL AND DOLocationID IS NOT NULL\\\n",
    "    GROUP BY PULocationID,  DOlocationID\\\n",
    "    ORDER by total_pasangan DESC\\\n",
    "    \"\n",
    ")\n",
    "\n",
    "location_pairs_common.show(10)"
   ]
  },
  {
   "cell_type": "markdown",
   "metadata": {
    "id": "7AZA6mg08t1Z"
   },
   "source": [
    "### Write all of the result to BigQuery table (additional - point plus)"
   ]
  },
  {
   "cell_type": "code",
   "execution_count": null,
   "metadata": {
    "id": "3HQt2IUJfbeR"
   },
   "outputs": [],
   "source": [
    "from google.oauth2 import service_account\n",
    "from google.cloud import bigquery\n",
    "\n",
    "credentials = service_account.Credentials.from_service_account_file(\n",
    "    './private-key-bq.json')\n",
    "project_id = 'learning-379714'\n",
    "data_set = 'project_5'\n",
    "client = bigquery.Client(credentials=credentials, project=credentials.project_id)"
   ]
  },
  {
   "cell_type": "code",
   "execution_count": null,
   "metadata": {
    "id": "U18NjLQfgdim"
   },
   "outputs": [],
   "source": [
    "import pandas as pd"
   ]
  },
  {
   "cell_type": "markdown",
   "metadata": {
    "id": "CAJqdTXtuoMb"
   },
   "source": [
    "taxi_trip"
   ]
  },
  {
   "cell_type": "code",
   "execution_count": null,
   "metadata": {
    "id": "nCbjIs7igxTG"
   },
   "outputs": [],
   "source": [
    "taxi_trip_pd = taxi_trips.toPandas()\n",
    "taxi_trip_df = pd.DataFrame(taxi_trip_pd)"
   ]
  },
  {
   "cell_type": "code",
   "execution_count": null,
   "metadata": {
    "colab": {
     "base_uri": "https://localhost:8080/"
    },
    "id": "k3iu2qMCrWaS",
    "outputId": "754f3662-089a-4032-e437-4d4c9d62a454"
   },
   "outputs": [
    {
     "data": {
      "text/plain": [
       "LoadJob<project=learning-379714, location=US, id=fe9fbfba-ddde-488c-b36d-eefe21875f88>"
      ]
     },
     "execution_count": 27,
     "metadata": {},
     "output_type": "execute_result"
    }
   ],
   "source": [
    "# Get a reference to the table\n",
    "table_ref = client.dataset(data_set).table('taxi_trip')\n",
    "\n",
    "# Load the data into the table\n",
    "job_config = bigquery.LoadJobConfig()\n",
    "job_config.write_disposition = bigquery.WriteDisposition.WRITE_TRUNCATE\n",
    "job = client.load_table_from_dataframe(taxi_trip_df, table_ref, job_config=job_config)\n",
    "job.result()  # Wait for the job to complete"
   ]
  },
  {
   "cell_type": "markdown",
   "metadata": {
    "id": "8nt0XS6mukne"
   },
   "source": [
    "longest_trip_pd"
   ]
  },
  {
   "cell_type": "code",
   "execution_count": null,
   "metadata": {
    "colab": {
     "base_uri": "https://localhost:8080/",
     "height": 261
    },
    "id": "i7R-1oPuqGOt",
    "outputId": "9b144f35-0bac-4f3f-8ca4-224c253bb620"
   },
   "outputs": [
    {
     "name": "stderr",
     "output_type": "stream",
     "text": [
      "/usr/local/lib/python3.10/dist-packages/pyspark/sql/pandas/conversion.py:251: FutureWarning: Passing unit-less datetime64 dtype to .astype is deprecated and will raise in a future version. Pass 'datetime64[ns]' instead\n",
      "  series = series.astype(t, copy=False)\n"
     ]
    },
    {
     "data": {
      "text/html": [
       "\n",
       "  <div id=\"df-78fcd704-81a9-4378-aff5-abceb0c3906e\">\n",
       "    <div class=\"colab-df-container\">\n",
       "      <div>\n",
       "<style scoped>\n",
       "    .dataframe tbody tr th:only-of-type {\n",
       "        vertical-align: middle;\n",
       "    }\n",
       "\n",
       "    .dataframe tbody tr th {\n",
       "        vertical-align: top;\n",
       "    }\n",
       "\n",
       "    .dataframe thead th {\n",
       "        text-align: right;\n",
       "    }\n",
       "</style>\n",
       "<table border=\"1\" class=\"dataframe\">\n",
       "  <thead>\n",
       "    <tr style=\"text-align: right;\">\n",
       "      <th></th>\n",
       "      <th>pickup_date</th>\n",
       "      <th>duration_minute</th>\n",
       "    </tr>\n",
       "  </thead>\n",
       "  <tbody>\n",
       "    <tr>\n",
       "      <th>0</th>\n",
       "      <td>2021-02-04</td>\n",
       "      <td>1075420</td>\n",
       "    </tr>\n",
       "    <tr>\n",
       "      <th>1</th>\n",
       "      <td>2021-02-25</td>\n",
       "      <td>1026330</td>\n",
       "    </tr>\n",
       "    <tr>\n",
       "      <th>2</th>\n",
       "      <td>2021-02-03</td>\n",
       "      <td>1003721</td>\n",
       "    </tr>\n",
       "    <tr>\n",
       "      <th>3</th>\n",
       "      <td>2021-02-23</td>\n",
       "      <td>962173</td>\n",
       "    </tr>\n",
       "    <tr>\n",
       "      <th>4</th>\n",
       "      <td>2021-02-17</td>\n",
       "      <td>957779</td>\n",
       "    </tr>\n",
       "  </tbody>\n",
       "</table>\n",
       "</div>\n",
       "      <button class=\"colab-df-convert\" onclick=\"convertToInteractive('df-78fcd704-81a9-4378-aff5-abceb0c3906e')\"\n",
       "              title=\"Convert this dataframe to an interactive table.\"\n",
       "              style=\"display:none;\">\n",
       "        \n",
       "  <svg xmlns=\"http://www.w3.org/2000/svg\" height=\"24px\"viewBox=\"0 0 24 24\"\n",
       "       width=\"24px\">\n",
       "    <path d=\"M0 0h24v24H0V0z\" fill=\"none\"/>\n",
       "    <path d=\"M18.56 5.44l.94 2.06.94-2.06 2.06-.94-2.06-.94-.94-2.06-.94 2.06-2.06.94zm-11 1L8.5 8.5l.94-2.06 2.06-.94-2.06-.94L8.5 2.5l-.94 2.06-2.06.94zm10 10l.94 2.06.94-2.06 2.06-.94-2.06-.94-.94-2.06-.94 2.06-2.06.94z\"/><path d=\"M17.41 7.96l-1.37-1.37c-.4-.4-.92-.59-1.43-.59-.52 0-1.04.2-1.43.59L10.3 9.45l-7.72 7.72c-.78.78-.78 2.05 0 2.83L4 21.41c.39.39.9.59 1.41.59.51 0 1.02-.2 1.41-.59l7.78-7.78 2.81-2.81c.8-.78.8-2.07 0-2.86zM5.41 20L4 18.59l7.72-7.72 1.47 1.35L5.41 20z\"/>\n",
       "  </svg>\n",
       "      </button>\n",
       "      \n",
       "  <style>\n",
       "    .colab-df-container {\n",
       "      display:flex;\n",
       "      flex-wrap:wrap;\n",
       "      gap: 12px;\n",
       "    }\n",
       "\n",
       "    .colab-df-convert {\n",
       "      background-color: #E8F0FE;\n",
       "      border: none;\n",
       "      border-radius: 50%;\n",
       "      cursor: pointer;\n",
       "      display: none;\n",
       "      fill: #1967D2;\n",
       "      height: 32px;\n",
       "      padding: 0 0 0 0;\n",
       "      width: 32px;\n",
       "    }\n",
       "\n",
       "    .colab-df-convert:hover {\n",
       "      background-color: #E2EBFA;\n",
       "      box-shadow: 0px 1px 2px rgba(60, 64, 67, 0.3), 0px 1px 3px 1px rgba(60, 64, 67, 0.15);\n",
       "      fill: #174EA6;\n",
       "    }\n",
       "\n",
       "    [theme=dark] .colab-df-convert {\n",
       "      background-color: #3B4455;\n",
       "      fill: #D2E3FC;\n",
       "    }\n",
       "\n",
       "    [theme=dark] .colab-df-convert:hover {\n",
       "      background-color: #434B5C;\n",
       "      box-shadow: 0px 1px 3px 1px rgba(0, 0, 0, 0.15);\n",
       "      filter: drop-shadow(0px 1px 2px rgba(0, 0, 0, 0.3));\n",
       "      fill: #FFFFFF;\n",
       "    }\n",
       "  </style>\n",
       "\n",
       "      <script>\n",
       "        const buttonEl =\n",
       "          document.querySelector('#df-78fcd704-81a9-4378-aff5-abceb0c3906e button.colab-df-convert');\n",
       "        buttonEl.style.display =\n",
       "          google.colab.kernel.accessAllowed ? 'block' : 'none';\n",
       "\n",
       "        async function convertToInteractive(key) {\n",
       "          const element = document.querySelector('#df-78fcd704-81a9-4378-aff5-abceb0c3906e');\n",
       "          const dataTable =\n",
       "            await google.colab.kernel.invokeFunction('convertToInteractive',\n",
       "                                                     [key], {});\n",
       "          if (!dataTable) return;\n",
       "\n",
       "          const docLinkHtml = 'Like what you see? Visit the ' +\n",
       "            '<a target=\"_blank\" href=https://colab.research.google.com/notebooks/data_table.ipynb>data table notebook</a>'\n",
       "            + ' to learn more about interactive tables.';\n",
       "          element.innerHTML = '';\n",
       "          dataTable['output_type'] = 'display_data';\n",
       "          await google.colab.output.renderOutput(dataTable, element);\n",
       "          const docLink = document.createElement('div');\n",
       "          docLink.innerHTML = docLinkHtml;\n",
       "          element.appendChild(docLink);\n",
       "        }\n",
       "      </script>\n",
       "    </div>\n",
       "  </div>\n",
       "  "
      ],
      "text/plain": [
       "  pickup_date  duration_minute\n",
       "0  2021-02-04          1075420\n",
       "1  2021-02-25          1026330\n",
       "2  2021-02-03          1003721\n",
       "3  2021-02-23           962173\n",
       "4  2021-02-17           957779"
      ]
     },
     "execution_count": 28,
     "metadata": {},
     "output_type": "execute_result"
    }
   ],
   "source": [
    "longest_trip_pd = longest_trip.toPandas()\n",
    "longest_trip_df = pd.DataFrame(longest_trip_pd)\n",
    "longest_trip_df.head(5)"
   ]
  },
  {
   "cell_type": "code",
   "execution_count": null,
   "metadata": {
    "colab": {
     "base_uri": "https://localhost:8080/"
    },
    "id": "FBRRjPdEqQx9",
    "outputId": "a21ad338-7dfd-462d-aeac-df5758b51bd7"
   },
   "outputs": [
    {
     "data": {
      "text/plain": [
       "LoadJob<project=learning-379714, location=US, id=c84da8fb-36f0-4b44-84ad-4a0d7a2fb78c>"
      ]
     },
     "execution_count": 29,
     "metadata": {},
     "output_type": "execute_result"
    }
   ],
   "source": [
    "# Get a reference to the table\n",
    "table_ref = client.dataset(data_set).table('longest_trip')\n",
    "\n",
    "# Load the data into the table\n",
    "job_config = bigquery.LoadJobConfig()\n",
    "job_config.write_disposition = bigquery.WriteDisposition.WRITE_TRUNCATE\n",
    "job = client.load_table_from_dataframe(longest_trip_df, table_ref, job_config=job_config)\n",
    "job.result()  # Wait for the job to complete"
   ]
  },
  {
   "cell_type": "markdown",
   "metadata": {
    "id": "C3PR4gAC379r"
   },
   "source": [
    " \n",
    "frequent dispatching_base_num "
   ]
  },
  {
   "cell_type": "code",
   "execution_count": null,
   "metadata": {
    "colab": {
     "base_uri": "https://localhost:8080/"
    },
    "id": "iVgYY7_R4B0F",
    "outputId": "81d12862-443a-43ca-b425-8abdc808c543"
   },
   "outputs": [
    {
     "data": {
      "text/plain": [
       "LoadJob<project=learning-379714, location=US, id=54d7bb66-1840-4d2a-98a9-f0b0b4eb07bd>"
      ]
     },
     "execution_count": 30,
     "metadata": {},
     "output_type": "execute_result"
    }
   ],
   "source": [
    "most_frequent_pd = most_frequent.toPandas()\n",
    "most_frequent_df = pd.DataFrame(most_frequent_pd)\n",
    "\n",
    "# Get a reference to the table\n",
    "table_ref = client.dataset(data_set).table('frequent_dispatching_base_num')\n",
    "\n",
    "# Load the data into the table\n",
    "job_config = bigquery.LoadJobConfig()\n",
    "job_config.write_disposition = bigquery.WriteDisposition.WRITE_TRUNCATE\n",
    "job = client.load_table_from_dataframe(most_frequent_df, table_ref, job_config=job_config)\n",
    "job.result()  # Wait for the job to complete"
   ]
  },
  {
   "cell_type": "markdown",
   "metadata": {
    "id": "bDvT6RsouedI"
   },
   "source": [
    "location_pairs_common_pd"
   ]
  },
  {
   "cell_type": "code",
   "execution_count": null,
   "metadata": {
    "colab": {
     "base_uri": "https://localhost:8080/",
     "height": 206
    },
    "id": "4A56jW3tqw4x",
    "outputId": "3fdd168d-1fe7-44fd-965e-80ff09d1b06f"
   },
   "outputs": [
    {
     "data": {
      "text/html": [
       "\n",
       "  <div id=\"df-07ff60c2-95e2-472f-9559-6babced8bc72\">\n",
       "    <div class=\"colab-df-container\">\n",
       "      <div>\n",
       "<style scoped>\n",
       "    .dataframe tbody tr th:only-of-type {\n",
       "        vertical-align: middle;\n",
       "    }\n",
       "\n",
       "    .dataframe tbody tr th {\n",
       "        vertical-align: top;\n",
       "    }\n",
       "\n",
       "    .dataframe thead th {\n",
       "        text-align: right;\n",
       "    }\n",
       "</style>\n",
       "<table border=\"1\" class=\"dataframe\">\n",
       "  <thead>\n",
       "    <tr style=\"text-align: right;\">\n",
       "      <th></th>\n",
       "      <th>PULocationID</th>\n",
       "      <th>DOLocationID</th>\n",
       "      <th>total_pasangan</th>\n",
       "    </tr>\n",
       "  </thead>\n",
       "  <tbody>\n",
       "    <tr>\n",
       "      <th>0</th>\n",
       "      <td>206.0</td>\n",
       "      <td>206.0</td>\n",
       "      <td>2374</td>\n",
       "    </tr>\n",
       "    <tr>\n",
       "      <th>1</th>\n",
       "      <td>221.0</td>\n",
       "      <td>206.0</td>\n",
       "      <td>2112</td>\n",
       "    </tr>\n",
       "    <tr>\n",
       "      <th>2</th>\n",
       "      <td>129.0</td>\n",
       "      <td>129.0</td>\n",
       "      <td>1902</td>\n",
       "    </tr>\n",
       "    <tr>\n",
       "      <th>3</th>\n",
       "      <td>7.0</td>\n",
       "      <td>7.0</td>\n",
       "      <td>1829</td>\n",
       "    </tr>\n",
       "    <tr>\n",
       "      <th>4</th>\n",
       "      <td>179.0</td>\n",
       "      <td>179.0</td>\n",
       "      <td>1736</td>\n",
       "    </tr>\n",
       "  </tbody>\n",
       "</table>\n",
       "</div>\n",
       "      <button class=\"colab-df-convert\" onclick=\"convertToInteractive('df-07ff60c2-95e2-472f-9559-6babced8bc72')\"\n",
       "              title=\"Convert this dataframe to an interactive table.\"\n",
       "              style=\"display:none;\">\n",
       "        \n",
       "  <svg xmlns=\"http://www.w3.org/2000/svg\" height=\"24px\"viewBox=\"0 0 24 24\"\n",
       "       width=\"24px\">\n",
       "    <path d=\"M0 0h24v24H0V0z\" fill=\"none\"/>\n",
       "    <path d=\"M18.56 5.44l.94 2.06.94-2.06 2.06-.94-2.06-.94-.94-2.06-.94 2.06-2.06.94zm-11 1L8.5 8.5l.94-2.06 2.06-.94-2.06-.94L8.5 2.5l-.94 2.06-2.06.94zm10 10l.94 2.06.94-2.06 2.06-.94-2.06-.94-.94-2.06-.94 2.06-2.06.94z\"/><path d=\"M17.41 7.96l-1.37-1.37c-.4-.4-.92-.59-1.43-.59-.52 0-1.04.2-1.43.59L10.3 9.45l-7.72 7.72c-.78.78-.78 2.05 0 2.83L4 21.41c.39.39.9.59 1.41.59.51 0 1.02-.2 1.41-.59l7.78-7.78 2.81-2.81c.8-.78.8-2.07 0-2.86zM5.41 20L4 18.59l7.72-7.72 1.47 1.35L5.41 20z\"/>\n",
       "  </svg>\n",
       "      </button>\n",
       "      \n",
       "  <style>\n",
       "    .colab-df-container {\n",
       "      display:flex;\n",
       "      flex-wrap:wrap;\n",
       "      gap: 12px;\n",
       "    }\n",
       "\n",
       "    .colab-df-convert {\n",
       "      background-color: #E8F0FE;\n",
       "      border: none;\n",
       "      border-radius: 50%;\n",
       "      cursor: pointer;\n",
       "      display: none;\n",
       "      fill: #1967D2;\n",
       "      height: 32px;\n",
       "      padding: 0 0 0 0;\n",
       "      width: 32px;\n",
       "    }\n",
       "\n",
       "    .colab-df-convert:hover {\n",
       "      background-color: #E2EBFA;\n",
       "      box-shadow: 0px 1px 2px rgba(60, 64, 67, 0.3), 0px 1px 3px 1px rgba(60, 64, 67, 0.15);\n",
       "      fill: #174EA6;\n",
       "    }\n",
       "\n",
       "    [theme=dark] .colab-df-convert {\n",
       "      background-color: #3B4455;\n",
       "      fill: #D2E3FC;\n",
       "    }\n",
       "\n",
       "    [theme=dark] .colab-df-convert:hover {\n",
       "      background-color: #434B5C;\n",
       "      box-shadow: 0px 1px 3px 1px rgba(0, 0, 0, 0.15);\n",
       "      filter: drop-shadow(0px 1px 2px rgba(0, 0, 0, 0.3));\n",
       "      fill: #FFFFFF;\n",
       "    }\n",
       "  </style>\n",
       "\n",
       "      <script>\n",
       "        const buttonEl =\n",
       "          document.querySelector('#df-07ff60c2-95e2-472f-9559-6babced8bc72 button.colab-df-convert');\n",
       "        buttonEl.style.display =\n",
       "          google.colab.kernel.accessAllowed ? 'block' : 'none';\n",
       "\n",
       "        async function convertToInteractive(key) {\n",
       "          const element = document.querySelector('#df-07ff60c2-95e2-472f-9559-6babced8bc72');\n",
       "          const dataTable =\n",
       "            await google.colab.kernel.invokeFunction('convertToInteractive',\n",
       "                                                     [key], {});\n",
       "          if (!dataTable) return;\n",
       "\n",
       "          const docLinkHtml = 'Like what you see? Visit the ' +\n",
       "            '<a target=\"_blank\" href=https://colab.research.google.com/notebooks/data_table.ipynb>data table notebook</a>'\n",
       "            + ' to learn more about interactive tables.';\n",
       "          element.innerHTML = '';\n",
       "          dataTable['output_type'] = 'display_data';\n",
       "          await google.colab.output.renderOutput(dataTable, element);\n",
       "          const docLink = document.createElement('div');\n",
       "          docLink.innerHTML = docLinkHtml;\n",
       "          element.appendChild(docLink);\n",
       "        }\n",
       "      </script>\n",
       "    </div>\n",
       "  </div>\n",
       "  "
      ],
      "text/plain": [
       "   PULocationID  DOLocationID  total_pasangan\n",
       "0         206.0         206.0            2374\n",
       "1         221.0         206.0            2112\n",
       "2         129.0         129.0            1902\n",
       "3           7.0           7.0            1829\n",
       "4         179.0         179.0            1736"
      ]
     },
     "execution_count": 31,
     "metadata": {},
     "output_type": "execute_result"
    }
   ],
   "source": [
    "location_pairs_common_pd = location_pairs_common.toPandas()\n",
    "location_pairs_common_df = pd.DataFrame(location_pairs_common_pd)\n",
    "location_pairs_common_df.head(5)"
   ]
  },
  {
   "cell_type": "code",
   "execution_count": null,
   "metadata": {
    "colab": {
     "base_uri": "https://localhost:8080/"
    },
    "id": "zMda9z8-udYA",
    "outputId": "e7e8b726-de97-497e-f212-9ec1c5f5dbb3"
   },
   "outputs": [
    {
     "data": {
      "text/plain": [
       "LoadJob<project=learning-379714, location=US, id=f2662aa6-6aa6-4f5b-b0df-081a5b756677>"
      ]
     },
     "execution_count": 32,
     "metadata": {},
     "output_type": "execute_result"
    }
   ],
   "source": [
    "# Get a reference to the table\n",
    "table_ref = client.dataset(data_set).table('location_pairs_common')\n",
    "\n",
    "# Load the data into the table\n",
    "job_config = bigquery.LoadJobConfig()\n",
    "job_config.write_disposition = bigquery.WriteDisposition.WRITE_TRUNCATE\n",
    "job = client.load_table_from_dataframe(location_pairs_common_pd, table_ref, job_config=job_config)\n",
    "job.result()  # Wait for the job to complete"
   ]
  },
  {
   "cell_type": "code",
   "execution_count": null,
   "metadata": {
    "id": "Z9vJUvOB8jBU"
   },
   "outputs": [],
   "source": []
  }
 ],
 "metadata": {
  "colab": {
   "provenance": [],
   "toc_visible": true
  },
  "kernelspec": {
   "display_name": "Python 3 (ipykernel)",
   "language": "python",
   "name": "python3"
  },
  "language_info": {
   "codemirror_mode": {
    "name": "ipython",
    "version": 3
   },
   "file_extension": ".py",
   "mimetype": "text/x-python",
   "name": "python",
   "nbconvert_exporter": "python",
   "pygments_lexer": "ipython3",
   "version": "3.10.8"
  }
 },
 "nbformat": 4,
 "nbformat_minor": 1
}
